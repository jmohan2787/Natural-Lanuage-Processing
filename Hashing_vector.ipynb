{
 "cells": [
  {
   "cell_type": "code",
   "execution_count": null,
   "id": "a48e12b8-d860-4e58-892e-76d5cee2f1f6",
   "metadata": {},
   "outputs": [],
   "source": []
  }
 ],
 "metadata": {
  "kernelspec": {
   "display_name": "",
   "name": ""
  },
  "language_info": {
   "name": ""
  }
 },
 "nbformat": 4,
 "nbformat_minor": 5
}
